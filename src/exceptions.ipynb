{
 "cells": [
  {
   "cell_type": "code",
   "execution_count": 1,
   "metadata": {},
   "outputs": [],
   "source": [
    "import numpy as np"
   ]
  },
  {
   "cell_type": "code",
   "execution_count": 6,
   "metadata": {},
   "outputs": [
    {
     "ename": "Exception",
     "evalue": "number must be less than 10",
     "output_type": "error",
     "traceback": [
      "\u001b[0;31m---------------------------------------------------------------------------\u001b[0m",
      "\u001b[0;31mException\u001b[0m                                 Traceback (most recent call last)",
      "\u001b[1;32m/home/bipar001/anaconda3/python_test/my_python_hw/src/exceptions.ipynb Cell 2\u001b[0m in \u001b[0;36m<cell line: 3>\u001b[0;34m()\u001b[0m\n\u001b[1;32m      <a href='vscode-notebook-cell:/home/bipar001/anaconda3/python_test/my_python_hw/src/exceptions.ipynb#W1sZmlsZQ%3D%3D?line=1'>2</a>\u001b[0m x \u001b[39m=\u001b[39m \u001b[39mint\u001b[39m(\u001b[39minput\u001b[39m(\u001b[39m'\u001b[39m\u001b[39mEnter a number: \u001b[39m\u001b[39m'\u001b[39m))\n\u001b[1;32m      <a href='vscode-notebook-cell:/home/bipar001/anaconda3/python_test/my_python_hw/src/exceptions.ipynb#W1sZmlsZQ%3D%3D?line=2'>3</a>\u001b[0m \u001b[39mif\u001b[39;00m x \u001b[39m>\u001b[39m \u001b[39m10\u001b[39m:\n\u001b[0;32m----> <a href='vscode-notebook-cell:/home/bipar001/anaconda3/python_test/my_python_hw/src/exceptions.ipynb#W1sZmlsZQ%3D%3D?line=3'>4</a>\u001b[0m     \u001b[39mraise\u001b[39;00m obj\n",
      "\u001b[0;31mException\u001b[0m: number must be less than 10"
     ]
    }
   ],
   "source": [
    "obj = Exception('number must be less than 10')\n",
    "#exception does not take keyword arguments (they have written it with /)\n",
    "\n",
    "x = int(input('Enter a number: '))\n",
    "if x > 10:\n",
    "    raise obj"
   ]
  },
  {
   "cell_type": "code",
   "execution_count": 7,
   "metadata": {},
   "outputs": [],
   "source": [
    "assert 2 + 2 == 4"
   ]
  },
  {
   "cell_type": "code",
   "execution_count": 8,
   "metadata": {},
   "outputs": [
    {
     "ename": "AssertionError",
     "evalue": "",
     "output_type": "error",
     "traceback": [
      "\u001b[0;31m---------------------------------------------------------------------------\u001b[0m",
      "\u001b[0;31mAssertionError\u001b[0m                            Traceback (most recent call last)",
      "\u001b[1;32m/home/bipar001/anaconda3/python_test/my_python_hw/src/exceptions.ipynb Cell 4\u001b[0m in \u001b[0;36m<cell line: 1>\u001b[0;34m()\u001b[0m\n\u001b[0;32m----> <a href='vscode-notebook-cell:/home/bipar001/anaconda3/python_test/my_python_hw/src/exceptions.ipynb#W3sZmlsZQ%3D%3D?line=0'>1</a>\u001b[0m \u001b[39massert\u001b[39;00m \u001b[39m2\u001b[39m \u001b[39m==\u001b[39m \u001b[39m5\u001b[39m\n",
      "\u001b[0;31mAssertionError\u001b[0m: "
     ]
    }
   ],
   "source": [
    "assert 2 == 5"
   ]
  },
  {
   "cell_type": "code",
   "execution_count": 9,
   "metadata": {},
   "outputs": [
    {
     "ename": "AssertionError",
     "evalue": "x != 2",
     "output_type": "error",
     "traceback": [
      "\u001b[0;31m---------------------------------------------------------------------------\u001b[0m",
      "\u001b[0;31mAssertionError\u001b[0m                            Traceback (most recent call last)",
      "\u001b[1;32m/home/bipar001/anaconda3/python_test/my_python_hw/src/exceptions.ipynb Cell 5\u001b[0m in \u001b[0;36m<cell line: 2>\u001b[0;34m()\u001b[0m\n\u001b[1;32m      <a href='vscode-notebook-cell:/home/bipar001/anaconda3/python_test/my_python_hw/src/exceptions.ipynb#W4sZmlsZQ%3D%3D?line=0'>1</a>\u001b[0m \u001b[39m#THIS IS equivalent to \u001b[39;00m\n\u001b[1;32m      <a href='vscode-notebook-cell:/home/bipar001/anaconda3/python_test/my_python_hw/src/exceptions.ipynb#W4sZmlsZQ%3D%3D?line=1'>2</a>\u001b[0m \u001b[39mif\u001b[39;00m x \u001b[39m!=\u001b[39m \u001b[39m2\u001b[39m:\n\u001b[0;32m----> <a href='vscode-notebook-cell:/home/bipar001/anaconda3/python_test/my_python_hw/src/exceptions.ipynb#W4sZmlsZQ%3D%3D?line=2'>3</a>\u001b[0m     \u001b[39mraise\u001b[39;00m \u001b[39mAssertionError\u001b[39;00m(\u001b[39m'\u001b[39m\u001b[39mx != 2\u001b[39m\u001b[39m'\u001b[39m)\n",
      "\u001b[0;31mAssertionError\u001b[0m: x != 2"
     ]
    }
   ],
   "source": [
    "#THIS IS equivalent to \n",
    "if x != 2:\n",
    "    raise AssertionError('x != 2')"
   ]
  },
  {
   "cell_type": "code",
   "execution_count": 10,
   "metadata": {},
   "outputs": [],
   "source": [
    "import sys"
   ]
  },
  {
   "cell_type": "code",
   "execution_count": 12,
   "metadata": {},
   "outputs": [],
   "source": [
    "#I am using linux\n",
    "assert sys.platform == 'linux'"
   ]
  },
  {
   "cell_type": "code",
   "execution_count": 13,
   "metadata": {},
   "outputs": [
    {
     "ename": "AssertionError",
     "evalue": "2 is not equal to 3",
     "output_type": "error",
     "traceback": [
      "\u001b[0;31m---------------------------------------------------------------------------\u001b[0m",
      "\u001b[0;31mAssertionError\u001b[0m                            Traceback (most recent call last)",
      "\u001b[1;32m/home/bipar001/anaconda3/python_test/my_python_hw/src/exceptions.ipynb Cell 8\u001b[0m in \u001b[0;36m<cell line: 1>\u001b[0;34m()\u001b[0m\n\u001b[0;32m----> <a href='vscode-notebook-cell:/home/bipar001/anaconda3/python_test/my_python_hw/src/exceptions.ipynb#X10sZmlsZQ%3D%3D?line=0'>1</a>\u001b[0m \u001b[39massert\u001b[39;00m \u001b[39m2\u001b[39m \u001b[39m==\u001b[39m \u001b[39m3\u001b[39m, \u001b[39m'\u001b[39m\u001b[39m2 is not equal to 3\u001b[39m\u001b[39m'\u001b[39m\n",
      "\u001b[0;31mAssertionError\u001b[0m: 2 is not equal to 3"
     ]
    }
   ],
   "source": [
    "#to write a message\n",
    "assert 2 == 3, '2 is not equal to 3'"
   ]
  },
  {
   "cell_type": "code",
   "execution_count": 14,
   "metadata": {},
   "outputs": [
    {
     "name": "stdout",
     "output_type": "stream",
     "text": [
      "Error 0/0\n"
     ]
    }
   ],
   "source": [
    "#try and except\n",
    "try:\n",
    "    0/0\n",
    "except:\n",
    "    print('Error! 0/0')"
   ]
  },
  {
   "cell_type": "code",
   "execution_count": 15,
   "metadata": {},
   "outputs": [
    {
     "name": "stdout",
     "output_type": "stream",
     "text": [
      "Error! 0/0\n",
      "1000\n"
     ]
    }
   ],
   "source": [
    "#it goes line by line\n",
    "#it will run before the error\n",
    "try:\n",
    "    z =999\n",
    "    x = z + 1\n",
    "    0 / 0\n",
    "except:\n",
    "    print('Error! 0/0')\n",
    "    print(x)"
   ]
  },
  {
   "cell_type": "code",
   "execution_count": 16,
   "metadata": {},
   "outputs": [
    {
     "name": "stdout",
     "output_type": "stream",
     "text": [
      "try\n"
     ]
    }
   ],
   "source": [
    "try:\n",
    "    print('try')\n",
    "    0 / 0\n",
    "    print('after error')\n",
    "except:\n",
    "    pass"
   ]
  },
  {
   "cell_type": "code",
   "execution_count": null,
   "metadata": {},
   "outputs": [],
   "source": []
  },
  {
   "attachments": {},
   "cell_type": "markdown",
   "metadata": {},
   "source": [
    "bare exception is very wrong!!!\n"
   ]
  },
  {
   "cell_type": "code",
   "execution_count": 17,
   "metadata": {},
   "outputs": [
    {
     "name": "stdout",
     "output_type": "stream",
     "text": [
      "ZeroDivisionError\n"
     ]
    }
   ],
   "source": [
    "#what to do?\n",
    "try:\n",
    "    0 / 0\n",
    "except ZeroDivisionError:\n",
    "    print('ZeroDivisionError')"
   ]
  },
  {
   "cell_type": "code",
   "execution_count": 19,
   "metadata": {},
   "outputs": [
    {
     "ename": "IndexError",
     "evalue": "list index out of range",
     "output_type": "error",
     "traceback": [
      "\u001b[0;31m---------------------------------------------------------------------------\u001b[0m",
      "\u001b[0;31mIndexError\u001b[0m                                Traceback (most recent call last)",
      "\u001b[1;32m/home/bipar001/anaconda3/python_test/my_python_hw/src/exceptions.ipynb Cell 15\u001b[0m in \u001b[0;36m<cell line: 2>\u001b[0;34m()\u001b[0m\n\u001b[1;32m      <a href='vscode-notebook-cell:/home/bipar001/anaconda3/python_test/my_python_hw/src/exceptions.ipynb#X20sZmlsZQ%3D%3D?line=1'>2</a>\u001b[0m \u001b[39mtry\u001b[39;00m:\n\u001b[1;32m      <a href='vscode-notebook-cell:/home/bipar001/anaconda3/python_test/my_python_hw/src/exceptions.ipynb#X20sZmlsZQ%3D%3D?line=2'>3</a>\u001b[0m     x \u001b[39m=\u001b[39m [\u001b[39m1\u001b[39m,\u001b[39m2\u001b[39m,\u001b[39m3\u001b[39m]\n\u001b[0;32m----> <a href='vscode-notebook-cell:/home/bipar001/anaconda3/python_test/my_python_hw/src/exceptions.ipynb#X20sZmlsZQ%3D%3D?line=3'>4</a>\u001b[0m     x[\u001b[39m5\u001b[39;49m]\n\u001b[1;32m      <a href='vscode-notebook-cell:/home/bipar001/anaconda3/python_test/my_python_hw/src/exceptions.ipynb#X20sZmlsZQ%3D%3D?line=4'>5</a>\u001b[0m \u001b[39mexcept\u001b[39;00m \u001b[39mZeroDivisionError\u001b[39;00m:\n\u001b[1;32m      <a href='vscode-notebook-cell:/home/bipar001/anaconda3/python_test/my_python_hw/src/exceptions.ipynb#X20sZmlsZQ%3D%3D?line=5'>6</a>\u001b[0m     \u001b[39mprint\u001b[39m(\u001b[39m'\u001b[39m\u001b[39mZeroDivisionError\u001b[39m\u001b[39m'\u001b[39m)\n",
      "\u001b[0;31mIndexError\u001b[0m: list index out of range"
     ]
    }
   ],
   "source": [
    "#what to do?\n",
    "try:\n",
    "    x = [1,2,3]\n",
    "    x[5]\n",
    "except ZeroDivisionError:\n",
    "    print('ZeroDivisionError')\n",
    "    #it never gets into except"
   ]
  },
  {
   "cell_type": "code",
   "execution_count": null,
   "metadata": {},
   "outputs": [],
   "source": []
  }
 ],
 "metadata": {
  "kernelspec": {
   "display_name": "newenv",
   "language": "python",
   "name": "python3"
  },
  "language_info": {
   "codemirror_mode": {
    "name": "ipython",
    "version": 3
   },
   "file_extension": ".py",
   "mimetype": "text/x-python",
   "name": "python",
   "nbconvert_exporter": "python",
   "pygments_lexer": "ipython3",
   "version": "3.10.4"
  },
  "orig_nbformat": 4,
  "vscode": {
   "interpreter": {
    "hash": "824d35c8460ebefb36087b1e63f98b8cd66fa04984987364dae71562a8ab3433"
   }
  }
 },
 "nbformat": 4,
 "nbformat_minor": 2
}
